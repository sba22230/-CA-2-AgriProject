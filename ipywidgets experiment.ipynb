{
 "cells": [
  {
   "cell_type": "code",
   "execution_count": 9,
   "metadata": {},
   "outputs": [],
   "source": [
    "# Import the necessary libraries\n",
    "%matplotlib inline\n",
    "import matplotlib.pyplot as plt\n",
    "from wordcloud import WordCloud\n",
    "\n",
    "from matplotlib.backends.backend_tkagg import FigureCanvasTkAgg\n",
    "import tkinter as tk\n",
    "import os  \n",
    "from wordcloud import WordCloud   # for word cloud\n",
    "from wordcloud import STOPWORDS   # for word cloud\n",
    "from wordcloud import ImageColorGenerator\n",
    "from PIL import Image, ImageTk\n",
    "import ipywidgets\n",
    "from ipywidgets import widgets\n",
    "from ipywidgets import interact, interactive, fixed, VBox\n",
    "from ipywidgets import interact"
   ]
  },
  {
   "cell_type": "code",
   "execution_count": 10,
   "metadata": {},
   "outputs": [],
   "source": [
    "destDir = './Data/Raw/IGA/'\n",
    "files = os.listdir(destDir)\n",
    "files = filter(lambda f: f.endswith(('.txt','.TXT')), files)\n",
    "# Load the text data from the text documents\n",
    "documents = []\n",
    "years = []\n",
    "for file in files:\n",
    "    with open(destDir + file, \"r\" , encoding=\"utf-8\") as f:\n",
    "        text = f.read()\n",
    "        documents.append(text)\n",
    "        # Extract the year from the file name\n",
    "        year = int(file.split(\"_\")[-1].split(\".\")[0])\n",
    "        years.append(year)\n",
    "# Pre-process the text data\n",
    "for i in range(len(documents)):\n",
    "    documents[i] = documents[i].lower() # Convert to lowercase\n",
    "    documents[i] = documents[i].replace(\".\", \"\") # Remove punctuation\n",
    "    \n",
    "# Create a word cloud for each year\n",
    "wordClouds = {}\n",
    "for i in range(len(documents)):\n",
    "    wordClouds[years[i]] = WordCloud(stopwords=STOPWORDS, background_color='white', width=1200, height=1000).generate(documents[i])"
   ]
  },
  {
   "cell_type": "code",
   "execution_count": 11,
   "metadata": {},
   "outputs": [],
   "source": [
    "def showWordCloud(yr):\n",
    "    # Show the word cloud\n",
    "    plt.imshow(wordClouds[yr], interpolation=\"bilinear\")\n",
    "    plt.axis(\"off\")\n",
    "    yrs = str(yr)\n",
    "    plt.savefig('./Images/' + yrs + '.png')"
   ]
  },
  {
   "cell_type": "code",
   "execution_count": 16,
   "metadata": {},
   "outputs": [
    {
     "data": {
      "application/vnd.jupyter.widget-view+json": {
       "model_id": "a6df405ed6d243efa7691427fa1b0810",
       "version_major": 2,
       "version_minor": 0
      },
      "text/plain": [
       "interactive(children=(IntSlider(value=17, description='i', max=35), Output()), _dom_classes=('widget-interact'…"
      ]
     },
     "metadata": {},
     "output_type": "display_data"
    }
   ],
   "source": [
    "def browse_images(wordClouds):\n",
    "    n = len(wordClouds.items())\n",
    "    def view_image(i):\n",
    "        plt.imshow(wordClouds[years[i]], interpolation='bilinear')\n",
    "        plt.title('Word cloud for the year ' + str(years[i]))\n",
    "        plt.axis('off')\n",
    "    interact(view_image, i=(0,n-1))\n",
    "\n",
    "browse_images(wordClouds)"
   ]
  },
  {
   "cell_type": "code",
   "execution_count": null,
   "metadata": {},
   "outputs": [],
   "source": []
  }
 ],
 "metadata": {
  "kernelspec": {
   "display_name": "base",
   "language": "python",
   "name": "python3"
  },
  "language_info": {
   "codemirror_mode": {
    "name": "ipython",
    "version": 3
   },
   "file_extension": ".py",
   "mimetype": "text/x-python",
   "name": "python",
   "nbconvert_exporter": "python",
   "pygments_lexer": "ipython3",
   "version": "3.9.15"
  },
  "orig_nbformat": 4,
  "vscode": {
   "interpreter": {
    "hash": "ad2bdc8ecc057115af97d19610ffacc2b4e99fae6737bb82f5d7fb13d2f2c186"
   }
  }
 },
 "nbformat": 4,
 "nbformat_minor": 2
}
