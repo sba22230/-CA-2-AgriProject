{
 "cells": [
  {
   "cell_type": "code",
   "execution_count": null,
   "metadata": {},
   "outputs": [],
   "source": [
    "# Import the necessary libraries\n",
    "from wordcloud import WordCloud\n",
    "import matplotlib.pyplot as plt\n",
    "from matplotlib.backends.backend_tkagg import FigureCanvasTkAgg\n",
    "import tkinter as tk\n",
    "import os  \n",
    "from wordcloud import WordCloud   # for word cloud\n",
    "from wordcloud import STOPWORDS   # for word cloud\n",
    "from wordcloud import ImageColorGenerator\n",
    "from PIL import Image, ImageTk\n",
    "import ipywidgets\n",
    "from ipywidgets import widgets\n",
    "from ipywidgets import interact, interactive, fixed, VBox"
   ]
  },
  {
   "cell_type": "code",
   "execution_count": null,
   "metadata": {},
   "outputs": [],
   "source": [
    "destDir = './Data/Raw/IGA/'\n",
    "files = os.listdir(destDir)\n",
    "files = filter(lambda f: f.endswith(('.txt','.TXT')), files)\n",
    "# Load the text data from the text documents\n",
    "documents = []\n",
    "years = []\n",
    "for file in files:\n",
    "    with open(destDir + file, \"r\" , encoding=\"utf-8\") as f:\n",
    "        text = f.read()\n",
    "        documents.append(text)\n",
    "        # Extract the year from the file name\n",
    "        year = int(file.split(\"_\")[-1].split(\".\")[0])\n",
    "        years.append(year)\n",
    "# Pre-process the text data\n",
    "for i in range(len(documents)):\n",
    "    documents[i] = documents[i].lower() # Convert to lowercase\n",
    "    documents[i] = documents[i].replace(\".\", \"\") # Remove punctuation\n",
    "    "
   ]
  },
  {
   "cell_type": "code",
   "execution_count": null,
   "metadata": {},
   "outputs": [],
   "source": [
    "def showWordCloud(yr):\n",
    "    # Show the word cloud\n",
    "    plt.imshow(wordClouds[yr], interpolation=\"bilinear\")\n",
    "    plt.axis(\"off\")\n",
    "    yrs = str(yr)\n",
    "    plt.savefig('./Images/' + yrs + '.png')"
   ]
  },
  {
   "cell_type": "code",
   "execution_count": null,
   "metadata": {},
   "outputs": [],
   "source": [
    "for y in years:\n",
    "    # Create the word cloud\n",
    "    showWordCloud(y)"
   ]
  },
  {
   "cell_type": "code",
   "execution_count": null,
   "metadata": {},
   "outputs": [],
   "source": [
    "# Create a word cloud for each year\n",
    "wordClouds = {}\n",
    "for i in range(len(documents)):\n",
    "    wordClouds[years[i]] = WordCloud(stopwords=STOPWORDS, background_color='white', width=1200, height=1000).generate(documents[i])\n",
    "     \n",
    "\n"
   ]
  },
  {
   "cell_type": "code",
   "execution_count": null,
   "metadata": {},
   "outputs": [],
   "source": [
    "# define function to load image\n",
    "def load_image(year):\n",
    "    # load image\n",
    "    load = Image.open(\"./Images/\" + year + \".png\")\n",
    "    # resize image\n",
    "    try:\n",
    "        load = load.resize((1000, 1000), Image.ANTIALIAS)\n",
    "        # create image\n",
    "        render = ImageTk.PhotoImage(load)\n",
    "        # create label\n",
    "        label = tk.Label(image=render)\n",
    "        label.image = render\n",
    "        label.place(x=100, y=100)\n",
    "        #label.pack()\n",
    "    except:\n",
    "        pass"
   ]
  },
  {
   "cell_type": "code",
   "execution_count": null,
   "metadata": {},
   "outputs": [],
   "source": [
    "#window = mainWindow()\n",
    "window = tk.Tk()\n",
    "window.geometry(\"1400x1200\")\n",
    "window.title(\"Word Cloud Slider\")\n",
    "\n",
    "\n",
    "\n",
    "# Create the slider widget\n",
    "tkInt = (years[len(years) - 1] - years[0]/len(years))\n",
    "slider = tk.Scale(window, from_=years[0], to=years[len(years) - 1], orient=tk.HORIZONTAL, tickinterval=tkInt, resolution=1, length=500,  command=load_image)\n",
    "label = tk.Label(window, text=\"Word Cloud of the Year\", font=(\"Arial\", 20))\n",
    "\n",
    "slider.pack()\n",
    "label.pack()\n",
    "   \n",
    "# Run the tkinter event loop\n",
    "vbox = VBox([window.mainloop()])\n",
    "\n",
    "vbox\n"
   ]
  },
  {
   "cell_type": "code",
   "execution_count": null,
   "metadata": {},
   "outputs": [],
   "source": []
  },
  {
   "cell_type": "code",
   "execution_count": null,
   "metadata": {},
   "outputs": [],
   "source": []
  }
 ],
 "metadata": {
  "kernelspec": {
   "display_name": "base",
   "language": "python",
   "name": "python3"
  },
  "language_info": {
   "codemirror_mode": {
    "name": "ipython",
    "version": 3
   },
   "file_extension": ".py",
   "mimetype": "text/x-python",
   "name": "python",
   "nbconvert_exporter": "python",
   "pygments_lexer": "ipython3",
   "version": "3.9.15 (main, Nov 24 2022, 14:39:17) [MSC v.1916 64 bit (AMD64)]"
  },
  "orig_nbformat": 4,
  "vscode": {
   "interpreter": {
    "hash": "ad2bdc8ecc057115af97d19610ffacc2b4e99fae6737bb82f5d7fb13d2f2c186"
   }
  }
 },
 "nbformat": 4,
 "nbformat_minor": 2
}
